{
 "cells": [
  {
   "cell_type": "markdown",
   "id": "english-netscape",
   "metadata": {},
   "source": [
    "# My Jupyter Notebook on IBM Watson Studio"
   ]
  },
  {
   "cell_type": "markdown",
   "id": "floral-preserve",
   "metadata": {},
   "source": [
    "**Muhammad Nabil**<br /><br />\n",
    "Data Scientist"
   ]
  },
  {
   "cell_type": "markdown",
   "id": "requested-lemon",
   "metadata": {},
   "source": [
    "I am interested in Data Science because I would love to contribute towards huge discovery/innovation in the future"
   ]
  },
  {
   "cell_type": "markdown",
   "id": "electronic-kelly",
   "metadata": {},
   "source": [
    "### The below should print 'Hello World'"
   ]
  },
  {
   "cell_type": "code",
   "execution_count": 2,
   "id": "subsequent-discharge",
   "metadata": {},
   "outputs": [
    {
     "name": "stdout",
     "output_type": "stream",
     "text": [
      "Hello World!!\n"
     ]
    }
   ],
   "source": [
    "print(\"Hello World!!\")"
   ]
  },
  {
   "cell_type": "markdown",
   "id": "superior-vegetation",
   "metadata": {},
   "source": [
    "> You are an awesome person\n",
    ">\n",
    " - you\n",
    " - and me\n",
    "\n",
    "<hr>\n",
    "\n",
    "Made with <3\n"
   ]
  },
  {
   "cell_type": "code",
   "execution_count": null,
   "id": "contemporary-baltimore",
   "metadata": {},
   "outputs": [],
   "source": []
  }
 ],
 "metadata": {
  "kernelspec": {
   "display_name": "Python 3",
   "language": "python",
   "name": "python3"
  },
  "language_info": {
   "codemirror_mode": {
    "name": "ipython",
    "version": 3
   },
   "file_extension": ".py",
   "mimetype": "text/x-python",
   "name": "python",
   "nbconvert_exporter": "python",
   "pygments_lexer": "ipython3",
   "version": "3.9.2"
  }
 },
 "nbformat": 4,
 "nbformat_minor": 5
}
